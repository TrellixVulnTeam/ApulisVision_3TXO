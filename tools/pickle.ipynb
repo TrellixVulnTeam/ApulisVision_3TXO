{
 "cells": [
  {
   "cell_type": "code",
   "execution_count": null,
   "metadata": {
    "collapsed": true
   },
   "outputs": [],
   "source": [
    "# Import the required modules\n",
    "import sys\n",
    "import os.path as osp\n",
    "# 鏡像新增\n",
    "import cloudpickle as pickle\n",
    "from mmdet.apis import inference_detector, init_detector, show_result_pyplot\n",
    "\n",
    "\n",
    "def pickle_dump(obj, file):\n",
    "    pickled_lambda = pickle.dumps(obj)\n",
    "    with open(file, \"wb\") as f:\n",
    "        f.write(pickled_lambda)\n",
    "\n",
    "\n",
    "def pickle_load(file):\n",
    "    with open(file, \"rb\") as f:\n",
    "        model_s = f.read()\n",
    "    return pickle.loads(model_s)\n",
    "\n",
    "\n",
    "class InferenceModel:\n",
    "    def __init__(self, model, predict):\n",
    "        self.model = model\n",
    "        self.predict = predict\n",
    "\n",
    "\n"
   ]
  },
  {
   "cell_type": "code",
   "execution_count": null,
   "outputs": [],
   "source": [
    "\n",
    "    config_file = '../configs_custom/mmdet/faster_rcnn_r50_fpn_1x_coco.py'\n",
    "    checkpoint_file = '../demo/epoch_2.pth'\n",
    "    model = init_detector(config=config_file, checkpoint=checkpoint_file, device='cuda:0')\n",
    "    infer_model = InferenceModel(model, inference_detector)\n",
    "    pickle_dump(infer_model, osp.join(osp.dirname(osp.abspath(__file__)), \"model.pkl\"))"
   ],
   "metadata": {
    "collapsed": false,
    "pycharm": {
     "name": "#%%\n"
    }
   }
  },
  {
   "cell_type": "code",
   "execution_count": null,
   "outputs": [],
   "source": [
    "\n",
    "\n",
    "    infer_model = pickle_load(osp.join(osp.dirname(osp.abspath(__file__)), \"model.pkl\"))\n",
    "    result = inference_detector(infer_model.model, '../demo/demo.jpg')\n",
    "    infer_model.predict(infer_model, '../demo/demo.jpg')\n",
    "    infer_model.predict(infer_model, '../demo/demo.jpg')\n"
   ],
   "metadata": {
    "collapsed": false,
    "pycharm": {
     "name": "#%%\n"
    }
   }
  }
 ],
 "metadata": {
  "kernelspec": {
   "display_name": "${KERNEL_SPEC_DISPLAY_NAME}",
   "language": "${KERNEL_SPEC_LANGUAGE}",
   "name": "${KERNEL_SPEC_NAME}"
  },
  "language_info": {
   "codemirror_mode": {
    "name": "ipython",
    "version": 2
   },
   "file_extension": ".py",
   "mimetype": "text/x-python",
   "name": "python",
   "nbconvert_exporter": "python",
   "pygments_lexer": "ipython2",
   "version": "2.7.6"
  }
 },
 "nbformat": 4,
 "nbformat_minor": 0
}
